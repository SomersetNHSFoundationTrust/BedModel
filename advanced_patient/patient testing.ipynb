{
 "cells": [
  {
   "cell_type": "code",
   "execution_count": 1,
   "id": "ac000d8764b892fe",
   "metadata": {
    "collapsed": false,
    "ExecuteTime": {
     "end_time": "2024-03-26T11:22:00.806926Z",
     "start_time": "2024-03-26T11:22:00.712236Z"
    }
   },
   "outputs": [],
   "source": [
    "from patient import *"
   ]
  },
  {
   "cell_type": "code",
   "outputs": [],
   "source": [
    "k = Patient(gender=0.498)"
   ],
   "metadata": {
    "collapsed": true,
    "ExecuteTime": {
     "end_time": "2024-03-26T11:22:00.823201500Z",
     "start_time": "2024-03-26T11:22:00.812323500Z"
    }
   },
   "id": "initial_id",
   "execution_count": 2
  },
  {
   "cell_type": "code",
   "outputs": [
    {
     "name": "stdout",
     "output_type": "stream",
     "text": [
      "[100000, 'm']\n",
      "[100001, 'm']\n",
      "[100002, 'f']\n"
     ]
    }
   ],
   "source": [
    "print(k.generate('Emergency Medical'))\n",
    "print(k.generate('Emergency Medical'))\n",
    "print(k.generate('Emergency Medical'))"
   ],
   "metadata": {
    "collapsed": false,
    "ExecuteTime": {
     "end_time": "2024-03-26T11:22:00.862157600Z",
     "start_time": "2024-03-26T11:22:00.825647300Z"
    }
   },
   "id": "f662ed134b3e618e",
   "execution_count": 3
  },
  {
   "cell_type": "code",
   "outputs": [],
   "source": [],
   "metadata": {
    "collapsed": false,
    "ExecuteTime": {
     "end_time": "2024-03-26T11:22:00.863247600Z",
     "start_time": "2024-03-26T11:22:00.839220200Z"
    }
   },
   "id": "da6c2fe18a6feaa2",
   "execution_count": 3
  }
 ],
 "metadata": {
  "kernelspec": {
   "display_name": "Python 3",
   "language": "python",
   "name": "python3"
  },
  "language_info": {
   "codemirror_mode": {
    "name": "ipython",
    "version": 2
   },
   "file_extension": ".py",
   "mimetype": "text/x-python",
   "name": "python",
   "nbconvert_exporter": "python",
   "pygments_lexer": "ipython2",
   "version": "2.7.6"
  }
 },
 "nbformat": 4,
 "nbformat_minor": 5
}
